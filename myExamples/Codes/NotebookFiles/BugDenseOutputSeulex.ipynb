{
 "cells": [
  {
   "cell_type": "code",
   "execution_count": 2,
   "metadata": {
    "collapsed": false
   },
   "outputs": [],
   "source": [
    "# There is a bug with the Dense Output for SEULEX solver\n",
    "# This bug is only seen when we have explicitly defined Jacobian\n",
    "\n",
    "# Load all the required packages\n",
    "using ODEInterface\n",
    "using ForwardDiff\n",
    "@ODEInterface.import_huge\n",
    "loadODESolvers();\n",
    "\n",
    "# Define the right-hand function for automatic differentiation\n",
    "function vdpolAD(x)\n",
    "    return [x[2],((1-x[1]^2)*x[2]-x[1])*1e6]\n",
    "end\n",
    "\n",
    "# Define the system for the solver\n",
    "function vdpol(t,x,dx)\n",
    "    dx[:] = vdpolAD(x);\n",
    "    return nothing\n",
    "end\n",
    "\n",
    "# Define the Jacobian function using AD\n",
    "function getJacobian(t,x,J)\n",
    "    J[:,:] = ForwardDiff.jacobian(vdpolAD,x);\n",
    "    return nothing\n",
    "end\n",
    "\n",
    "# Initial conditions\n",
    "t0 = 0.0; T = 11.0; x0 = [2.0,0.0];\n",
    "\n",
    "# Store the solutions at various time steps\n",
    "global solCollection = zeros(10,2);\n",
    "\n",
    "# Define the output function to extract function values at output time steps\n",
    "function outputfcn(reason,told,t,x,eval_sol_fcn,extra_data)\n",
    "    if reason == OUTPUTFCN_CALL_STEP\n",
    "        T = [1.0:10.0;];\n",
    "        for i=1:10\n",
    "            if told < T[i] <= t\n",
    "                solCollection[i,:] = eval_sol_fcn(T[i]);\n",
    "                return OUTPUTFCN_RET_CONTINUE\n",
    "            end\n",
    "        end\n",
    "    end\n",
    "    return OUTPUTFCN_RET_CONTINUE\n",
    "end\n",
    "\n",
    "# Get \"reference solution\"\n",
    "Tol = 1e-14;\n",
    "# for Tol < 1e-14 we get the error \"TOLERANCES ARE TOO SMALL\"\n",
    "opt = OptionsODE(OPT_EPS=>1.11e-16,OPT_RTOL=>Tol, OPT_ATOL=>Tol,\n",
    "OPT_RHS_CALLMODE => RHS_CALL_INSITU,\n",
    "OPT_JACOBIMATRIX => getJacobian,\n",
    "OPT_OUTPUTFCN => outputfcn,\n",
    "OPT_OUTPUTMODE => OUTPUTFCN_DENSE);\n",
    "\n",
    "(t,x,retcode,stats) = seulex(vdpol,t0, T, x0, opt);\n",
    "x_dense = [solCollection;x'];"
   ]
  },
  {
   "cell_type": "code",
   "execution_count": 14,
   "metadata": {
    "collapsed": true
   },
   "outputs": [],
   "source": [
    "# Get non dense output at all the output times\n",
    "opt = OptionsODE(OPT_EPS=>1.11e-16,OPT_RTOL=>Tol, OPT_ATOL=>Tol,\n",
    "OPT_RHS_CALLMODE => RHS_CALL_INSITU,\n",
    "OPT_JACOBIMATRIX => getJacobian);\n",
    "\n",
    "T = [1.0:11.0;];\n",
    "\n",
    "x_nonDense = Array{Array{Float64,1}}(11);\n",
    "for i=1:11\n",
    "    (t,x_nonDense[i],retcode,stats) = seulex(vdpol,t0, T[i], x0, opt);\n",
    "end"
   ]
  },
  {
   "cell_type": "code",
   "execution_count": 25,
   "metadata": {
    "collapsed": false
   },
   "outputs": [
    {
     "data": {
      "text/plain": [
       "3.6810476402417827"
      ]
     },
     "execution_count": 25,
     "metadata": {},
     "output_type": "execute_result"
    }
   ],
   "source": [
    "norm([norm(x_nonDense[4][1]-x_dense[4,1]',Inf),norm(x_nonDense[4][2]-x_dense[4,2]',Inf)],Inf)"
   ]
  },
  {
   "cell_type": "code",
   "execution_count": 26,
   "metadata": {
    "collapsed": false
   },
   "outputs": [
    {
     "data": {
      "text/plain": [
       "2x2 Array{Float64,2}:\n",
       "  1.19441   1.19437\n",
       " -2.79959  -6.48063"
      ]
     },
     "execution_count": 26,
     "metadata": {},
     "output_type": "execute_result"
    }
   ],
   "source": [
    "# Problem occurs at T = 4.0\n",
    "# The second component is wrong\n",
    "[x_nonDense[4][:] x_dense[4,:]']"
   ]
  },
  {
   "cell_type": "code",
   "execution_count": null,
   "metadata": {
    "collapsed": true
   },
   "outputs": [],
   "source": []
  }
 ],
 "metadata": {
  "kernelspec": {
   "display_name": "Julia 0.4.2",
   "language": "julia",
   "name": "julia-0.4"
  },
  "language_info": {
   "file_extension": ".jl",
   "mimetype": "application/julia",
   "name": "julia",
   "version": "0.4.2"
  }
 },
 "nbformat": 4,
 "nbformat_minor": 0
}
